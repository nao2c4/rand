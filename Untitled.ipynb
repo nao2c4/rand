{
 "cells": [
  {
   "cell_type": "code",
   "execution_count": 32,
   "metadata": {},
   "outputs": [],
   "source": [
    "import numpy as np\n",
    "import time"
   ]
  },
  {
   "cell_type": "code",
   "execution_count": 5,
   "metadata": {},
   "outputs": [],
   "source": [
    "def gen_random(size, num_loops=1):\n",
    "    \"\"\"乱数発生\n",
    "    \n",
    "    Args:\n",
    "        size: 文字長\n",
    "        num_loops: 何回作成するか\n",
    "    \n",
    "    Returns:\n",
    "        indices: インデックス\n",
    "    \"\"\"\n",
    "    return np.random.randint(0, size, size=(num_loops, size))"
   ]
  },
  {
   "cell_type": "code",
   "execution_count": 33,
   "metadata": {
    "scrolled": false
   },
   "outputs": [
    {
     "name": "stdout",
     "output_type": "stream",
     "text": [
      "THEE GUN THEE ELEPHANT 2 False\n",
      "THEE GUN ELEPHANT THEE 1 False\n",
      "ELEPHANT THEE THEE GUN 0 False\n",
      "GUN THEE ELEPHANT THEE 0 False\n",
      "THEE ELEPHANT GUN MICHELLE 2 False\n",
      "GUN MICHELLE ELEPHANT THEE 1 False\n",
      "ELEPHANT MICHELLE GUN GUN 2 False\n",
      "THEE ELEPHANT GUN THEE 2 False\n",
      "GUN ELEPHANT ELEPHANT MICHELLE 0 False\n",
      "THEE MICHELLE GUN GUN 3 False\n",
      "THEE MICHELLE ELEPHANT GUN 2 False\n",
      "GUN MICHELLE ELEPHANT THEE 1 False\n",
      "THEE GUN MICHELLE THEE 1 False\n",
      "GUN THEE THEE MICHELLE 0 False\n",
      "MICHELLE GUN MICHELLE GUN 0 False\n",
      "ELEPHANT MICHELLE GUN ELEPHANT 3 False\n",
      "GUN THEE THEE THEE 0 False\n",
      "MICHELLE MICHELLE ELEPHANT ELEPHANT 2 False\n",
      "MICHELLE ELEPHANT GUN THEE 1 False\n",
      "MICHELLE GUN GUN ELEPHANT 2 False\n",
      "ELEPHANT GUN MICHELLE MICHELLE 0 False\n"
     ]
    },
    {
     "ename": "KeyboardInterrupt",
     "evalue": "",
     "output_type": "error",
     "traceback": [
      "\u001b[1;31m---------------------------------------------------------------------------\u001b[0m",
      "\u001b[1;31mKeyboardInterrupt\u001b[0m                         Traceback (most recent call last)",
      "\u001b[1;32m<ipython-input-33-d516a2c258cb>\u001b[0m in \u001b[0;36m<module>\u001b[1;34m\u001b[0m\n\u001b[0;32m      6\u001b[0m \u001b[1;32mfor\u001b[0m \u001b[0mw\u001b[0m\u001b[1;33m,\u001b[0m \u001b[0ms\u001b[0m\u001b[1;33m,\u001b[0m \u001b[0mc\u001b[0m \u001b[1;32min\u001b[0m \u001b[0mzip\u001b[0m\u001b[1;33m(\u001b[0m\u001b[0mgenerated_words\u001b[0m\u001b[1;33m,\u001b[0m \u001b[0mscore\u001b[0m\u001b[1;33m,\u001b[0m \u001b[0mcheck\u001b[0m\u001b[1;33m)\u001b[0m\u001b[1;33m:\u001b[0m\u001b[1;33m\u001b[0m\u001b[1;33m\u001b[0m\u001b[0m\n\u001b[0;32m      7\u001b[0m     \u001b[0mprint\u001b[0m\u001b[1;33m(\u001b[0m\u001b[1;34m' '\u001b[0m\u001b[1;33m.\u001b[0m\u001b[0mjoin\u001b[0m\u001b[1;33m(\u001b[0m\u001b[0mw\u001b[0m\u001b[1;33m)\u001b[0m\u001b[1;33m,\u001b[0m \u001b[0ms\u001b[0m\u001b[1;33m,\u001b[0m \u001b[0mc\u001b[0m\u001b[1;33m)\u001b[0m\u001b[1;33m\u001b[0m\u001b[1;33m\u001b[0m\u001b[0m\n\u001b[1;32m----> 8\u001b[1;33m     \u001b[0mtime\u001b[0m\u001b[1;33m.\u001b[0m\u001b[0msleep\u001b[0m\u001b[1;33m(\u001b[0m\u001b[1;36m1\u001b[0m\u001b[1;33m)\u001b[0m\u001b[1;33m\u001b[0m\u001b[1;33m\u001b[0m\u001b[0m\n\u001b[0m",
      "\u001b[1;31mKeyboardInterrupt\u001b[0m: "
     ]
    }
   ],
   "source": [
    "words = np.array('THEE MICHELLE GUN ELEPHANT'.split(' '))\n",
    "generated_words = words[gen_random(words.size, 1000)]\n",
    "score = np.sum(generated_words == words, axis=-1)\n",
    "check = score == words.size\n",
    "\n",
    "for w, s, c in zip(generated_words, score, check):\n",
    "    print(' '.join(w), s, c)\n",
    "    time.sleep(1)"
   ]
  }
 ],
 "metadata": {
  "kernelspec": {
   "display_name": "Python 3",
   "language": "python",
   "name": "python3"
  },
  "language_info": {
   "codemirror_mode": {
    "name": "ipython",
    "version": 3
   },
   "file_extension": ".py",
   "mimetype": "text/x-python",
   "name": "python",
   "nbconvert_exporter": "python",
   "pygments_lexer": "ipython3",
   "version": "3.9.1"
  }
 },
 "nbformat": 4,
 "nbformat_minor": 4
}
